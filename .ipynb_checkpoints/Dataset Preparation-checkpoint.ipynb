{
 "cells": [
  {
   "cell_type": "code",
   "execution_count": 62,
   "metadata": {
    "collapsed": true
   },
   "outputs": [],
   "source": [
    "from os import listdir\n",
    "import os\n",
    "import PIL\n",
    "from PIL import Image\n",
    "import math\n",
    "from collections import defaultdict\n",
    "from matplotlib.pyplot import imshow\n",
    "import numpy as np\n",
    "import scipy.misc\n",
    "from scipy.misc import imsave\n",
    "%matplotlib inline"
   ]
  },
  {
   "cell_type": "code",
   "execution_count": 2,
   "metadata": {
    "collapsed": true
   },
   "outputs": [],
   "source": [
    "raw_dir = '/ssd/catwong/cartoonnetwork/raw_dataset/IIIT-CFW1.0/'"
   ]
  },
  {
   "cell_type": "code",
   "execution_count": 3,
   "metadata": {
    "collapsed": true
   },
   "outputs": [],
   "source": [
    "image_dirs = [\n",
    "]"
   ]
  },
  {
   "cell_type": "code",
   "execution_count": 35,
   "metadata": {
    "collapsed": false
   },
   "outputs": [],
   "source": [
    "### Goal: get the first real face for each celebrity\n",
    "\n",
    "real_faces_dir = 'realFaces'\n",
    "real_faces = listdir(os.path.join(raw_dir, real_faces_dir))\n",
    "all_celebrities = set([path[:-8] for path in real_faces])\n",
    "# Get the JPEG paths of all of the first real photos of each celebrity\n",
    "celebrity_to_real_photo = {}\n",
    "for celebrity in all_celebrities:\n",
    "    celebrity_to_real_photo[celebrity] = os.path.join(raw_dir, real_faces_dir, celebrity + '0001.jpg')\n"
   ]
  },
  {
   "cell_type": "code",
   "execution_count": 40,
   "metadata": {
    "collapsed": false
   },
   "outputs": [],
   "source": [
    "# Create pairs of real photos with each cartoon\n",
    "cartoons_dir = 'fullCartoonImgsAndXMLs'\n",
    "cartoons = [path for path in listdir(os.path.join(raw_dir, cartoons_dir)) if '.jpeg' in path]\n",
    "real_cartoon_pairs = defaultdict(list)\n",
    "for cartoon in cartoons:\n",
    "    celebrity = cartoon[:-9]\n",
    "    full_cartoon_path = os.path.join(raw_dir, cartoons_dir, cartoon)\n",
    "    real_cartoon_pairs[celebrity].append((celebrity_to_real_photo[celebrity], full_cartoon_path))"
   ]
  },
  {
   "cell_type": "code",
   "execution_count": null,
   "metadata": {
    "collapsed": false
   },
   "outputs": [],
   "source": [
    "base_dir = '/ssd/catwong/cartoonnetwork/paired_dataset'\n",
    "for i, celebrity in enumerate(real_cartoon_pairs.keys()):\n",
    "    if i < 80:\n",
    "        split_dir = 'train'\n",
    "    elif i < 90:\n",
    "        split_dir = 'val'\n",
    "    else:\n",
    "        split_dir = 'test'\n",
    "    # Create the pairs\n",
    "    for real_path, cartoon_path in real_cartoon_pairs[celebrity]:\n",
    "        real_img = Image.open(real_path)\n",
    "        resized_real = real_img.resize((256, 256))\n",
    "        cartoon_img = Image.open(cartoon_path)\n",
    "        resized_cartoon = cartoon_img.resize((256, 256))\n",
    "        # Concatenate the two\n",
    "        concatenated = np.hstack((np.array(resized_real), np.array(resized_cartoon)))\n",
    "        \n",
    "        imshow(concatenated)\n",
    "        # Save the image\n",
    "        new_name = \"concatenated_\" + cartoon_path.split(\"/\")[-1]\n",
    "        imsave(os.path.join(base_dir, split_dir, new_name), concatenated)\n",
    "        "
   ]
  },
  {
   "cell_type": "code",
   "execution_count": null,
   "metadata": {
    "collapsed": true
   },
   "outputs": [],
   "source": []
  }
 ],
 "metadata": {
  "kernelspec": {
   "display_name": "Python 2",
   "language": "python",
   "name": "python2"
  },
  "language_info": {
   "codemirror_mode": {
    "name": "ipython",
    "version": 2
   },
   "file_extension": ".py",
   "mimetype": "text/x-python",
   "name": "python",
   "nbconvert_exporter": "python",
   "pygments_lexer": "ipython2",
   "version": "2.7.6"
  }
 },
 "nbformat": 4,
 "nbformat_minor": 0
}
