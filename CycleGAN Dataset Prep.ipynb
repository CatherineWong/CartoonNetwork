{
 "cells": [
  {
   "cell_type": "code",
   "execution_count": 2,
   "metadata": {
    "collapsed": false
   },
   "outputs": [],
   "source": [
    "from os import listdir\n",
    "import os\n",
    "import PIL\n",
    "from PIL import Image\n",
    "import math\n",
    "from collections import defaultdict\n",
    "from matplotlib.pyplot import imshow\n",
    "import numpy as np\n",
    "import numpy.matlib\n",
    "import scipy.misc\n",
    "from scipy.misc import imsave\n",
    "%matplotlib inline"
   ]
  },
  {
   "cell_type": "code",
   "execution_count": 3,
   "metadata": {
    "collapsed": true
   },
   "outputs": [],
   "source": [
    "raw_dir = '/ssd/catwong/cartoonnetwork/'"
   ]
  },
  {
   "cell_type": "code",
   "execution_count": 4,
   "metadata": {
    "collapsed": false
   },
   "outputs": [
    {
     "name": "stdout",
     "output_type": "stream",
     "text": [
      "set(['JayLeno', 'RobertDowneyJr', 'JackieChan', 'NelsonMandela', 'Oprah', 'AngelaMerkel', 'beyonce', 'TigerWoods', 'MattDamon', 'Rihanna', 'RowanAtkinson', 'JohnLennon', 'PeterJackson', 'DwayneJohnson', 'AlbertEinstein', 'HughJackman', 'Federer', 'BruceWillis', 'BarackObama', 'DanielRadcliffe', 'che', 'LeonardoDiCaprio', 'ScarlettJohansson', 'MichaelJordan', 'NicoleKidman', 'AbrahamLincoln', 'JustinBieber', 'VladimirPutin', 'PrincessDiana', 'pele', 'BillClinton', 'BradPitt', 'MorganFreeman', 'AngelinaJolie', 'JohnFKennedy', 'PrinceCharles', 'KimJongUn', 'hillaryclinton', 'QuentinTarantino', 'MLK', 'SteveJobs', 'MarkZuckerberg', 'JayZ', 'RussellCrowe', 'Gandhi', 'MalcolmX', 'ElvisPresley', 'MeganFox', 'TomCruise', 'JKRowling', 'MarilynMonroe', 'BillGates', 'PabloPicasso', 'GeorgeClooney', 'DalaiLama', 'SylvesterStallone', 'MilaKunis', 'PaulMccartney', 'lucilleball', 'SelenaGomez', 'Shakira', 'BritneySpears', 'ArnoldSchwarzenegger', 'AishwaryaRai', 'JimCarrey', 'DanielCraig', 'EmmaWatson'])\n",
      "['/ssd/catwong/cartoonnetwork/canonical/KimJongUn_0.jpg', '/ssd/catwong/cartoonnetwork/canonical/KimJongUn_1.jpg', '/ssd/catwong/cartoonnetwork/canonical/KimJongUn_3.jpg', '/ssd/catwong/cartoonnetwork/canonical/KimJongUn_2.jpg']\n"
     ]
    }
   ],
   "source": [
    "### Goal: get the first real face for each celebrity\n",
    "\n",
    "real_faces_dir = 'canonical'\n",
    "real_faces = listdir(os.path.join(raw_dir, real_faces_dir))\n",
    "\n",
    "all_celebrities = set([path[:-6] for path in real_faces if '.DS' not in path])\n",
    "\n",
    "celebrity_to_photos = defaultdict(list)\n",
    "for photo_file in real_faces:\n",
    "    celeb = photo_file[:-6]\n",
    "    celebrity_to_photos[celeb] += [os.path.join(raw_dir, real_faces_dir, photo_file)]\n",
    "\n",
    "print all_celebrities\n",
    "print celebrity_to_photos['KimJongUn']"
   ]
  },
  {
   "cell_type": "code",
   "execution_count": 5,
   "metadata": {
    "collapsed": false
   },
   "outputs": [],
   "source": [
    "# Create pairs of real photos with each cartoon\n",
    "cartoons_dir = 'good_caricatures'\n",
    "caricatures = listdir(os.path.join(raw_dir, cartoons_dir))\n",
    "celebrity_to_caricatures = defaultdict(list)\n",
    "\n",
    "for photo_file in caricatures:\n",
    "    celeb = photo_file.split(\"_\")[0]\n",
    "    celebrity_to_caricatures[celeb] += [os.path.join(raw_dir, cartoons_dir, photo_file)]\n",
    "\n",
    "\n",
    "cartoons = [path for path in listdir(os.path.join(raw_dir, cartoons_dir)) if '.jpeg' in path]\n",
    "real_cartoon_pairs = defaultdict(list)\n",
    "all_celebrities = set([path.split(\"_\")[0] for path in real_faces])\n",
    "for cartoon in cartoons:\n",
    "    celebrity = cartoon[:-9]\n",
    "    full_cartoon_path = os.path.join(raw_dir, cartoons_dir, cartoon)\n",
    "    real_cartoon_pairs[celebrity].append((celebrity_to_real_photo[celebrity], full_cartoon_path))"
   ]
  },
  {
   "cell_type": "code",
   "execution_count": 7,
   "metadata": {
    "collapsed": false
   },
   "outputs": [
    {
     "name": "stdout",
     "output_type": "stream",
     "text": [
      "Unable to do: PeterJackson18.jpg\n",
      "Unable to do: BruceWillis47.jpg\n",
      "Unable to do: ArnoldSchwarzenegger1.jpg\n",
      "Unable to do: JimCarrey38.jpg\n"
     ]
    }
   ],
   "source": [
    "base_dir = '/ssd/catwong/cartoonnetwork/CycleGAN-TensorFlow/data/caricatures'\n",
    "for celeb_index, celebrity in enumerate(all_celebrities):\n",
    "    if celeb_index < 60:\n",
    "        split_dir = 'train'\n",
    "    else:\n",
    "        split_dir = 'test'\n",
    "    # Create the pairs\n",
    "    i = 0\n",
    "    for real_path in celebrity_to_photos[celebrity]:\n",
    "        try:\n",
    "            real_img = Image.open(real_path)\n",
    "            resized_real = real_img.resize((256, 256)).convert('L')\n",
    "            resized_real = np.array(resized_real)\n",
    "            new_name = celebrity + str(i) + \".jpg\"\n",
    "            imsave(os.path.join(base_dir, split_dir+\"A\", new_name), resized_real)\n",
    "            i += 1\n",
    "        except:\n",
    "            print \"Unable to do: \" + new_name\n",
    "    i = 0\n",
    "    for cartoon_path in celebrity_to_caricatures[celebrity]:\n",
    "        try:\n",
    "            cartoon_img = Image.open(cartoon_path)\n",
    "            resized_cartoon = cartoon_img.resize((256, 256)).convert('L')\n",
    "            resized_cartoon = np.array(resized_cartoon)\n",
    "            # Save the image\n",
    "            new_name = celebrity + str(i) + \".jpg\"\n",
    "            imsave(os.path.join(base_dir, split_dir+\"B\", new_name), resized_cartoon)\n",
    "            i += 1\n",
    "        except:\n",
    "            print \"Unable to do: \" + new_name\n",
    "        "
   ]
  },
  {
   "cell_type": "code",
   "execution_count": 20,
   "metadata": {
    "collapsed": false
   },
   "outputs": [
    {
     "name": "stdout",
     "output_type": "stream",
     "text": [
      "test\n",
      "Now on: 0\n",
      "Now on: 500\n",
      "val\n",
      "Now on: 1000\n",
      "Now on: 1500\n",
      "Now on: 2000\n",
      "train\n",
      "Now on: 2500\n",
      "Now on: 3000\n",
      "Now on: 3500\n",
      "Now on: 4000\n",
      "Now on: 4500\n",
      "Now on: 5000\n",
      "Now on: 5500\n",
      "Now on: 6000\n",
      "Now on: 6500\n",
      "Now on: 7000\n",
      "Now on: 7500\n",
      "Now on: 8000\n",
      "Now on: 8500\n",
      "Now on: 9000\n",
      "Now on: 9500\n",
      "Now on: 10000\n",
      "Now on: 10500\n",
      "Now on: 11000\n",
      "Now on: 11500\n",
      "Now on: 12000\n",
      "Now on: 12500\n",
      "Now on: 13000\n",
      "Now on: 13500\n"
     ]
    }
   ],
   "source": [
    "# Stack all the images so that they're still 256x3\n",
    "base_dir = '/ssd/catwong/cartoonnetwork/paired_dataset_2'\n",
    "new_base_dir = '/ssd/catwong/cartoonnetwork/paired_dataset_v2'\n",
    "sub_dirs = os.listdir(base_dir)\n",
    "i = 0\n",
    "for sub_dir in sub_dirs:\n",
    "    print sub_dir\n",
    "    image_files = os.listdir(os.path.join(base_dir, sub_dir))\n",
    "    for image_file in image_files:\n",
    "        if i % 500 == 0:\n",
    "            print \"Now on: \" + str(i)\n",
    "        # Get the full image path\n",
    "        image_file_full = os.path.join(base_dir, sub_dir, image_file)\n",
    "        img = Image.open(image_file_full)\n",
    "        img = np.array(img)\n",
    "        # Create a three layer stacked image\n",
    "        img = np.dstack((img, img, img))\n",
    "        imsave(os.path.join(new_base_dir, sub_dir, image_file), img)\n",
    "        i += 1\n",
    "\n",
    "\n"
   ]
  },
  {
   "cell_type": "code",
   "execution_count": 21,
   "metadata": {
    "collapsed": false
   },
   "outputs": [
    {
     "name": "stdout",
     "output_type": "stream",
     "text": [
      "(256, 512, 3)\n"
     ]
    }
   ],
   "source": [
    "test = Image.open('/ssd/catwong/cartoonnetwork/paired_dataset_v2/test/concatenated_JimCarrey9.jpg')\n",
    "print np.array(test).shape"
   ]
  },
  {
   "cell_type": "code",
   "execution_count": null,
   "metadata": {
    "collapsed": true
   },
   "outputs": [],
   "source": []
  }
 ],
 "metadata": {
  "kernelspec": {
   "display_name": "Python 2",
   "language": "python",
   "name": "python2"
  },
  "language_info": {
   "codemirror_mode": {
    "name": "ipython",
    "version": 2
   },
   "file_extension": ".py",
   "mimetype": "text/x-python",
   "name": "python",
   "nbconvert_exporter": "python",
   "pygments_lexer": "ipython2",
   "version": "2.7.6"
  }
 },
 "nbformat": 4,
 "nbformat_minor": 0
}
